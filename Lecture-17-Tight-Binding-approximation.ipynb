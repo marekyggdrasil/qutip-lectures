{
 "cells": [
  {
   "cell_type": "code",
   "execution_count": 10,
   "metadata": {},
   "outputs": [],
   "source": [
    "%matplotlib inline\n",
    "import matplotlib.pyplot as plt\n",
    "import numpy as np\n",
    "\n",
    "from qutip import *"
   ]
  },
  {
   "cell_type": "markdown",
   "metadata": {},
   "source": [
    "## Introduction\n",
    "\n",
    "( todo )\n",
    "\n",
    "Let us consider a one-dimensional model of electrons hopping between atoms, where distance between atoms is labeled as $a$, and $n$'th orbital of any atom is $\\left|n\\right>$ for $n = 1 \\dots N$.\n",
    "\n",
    "Let us assume those orbitals are orthonormal ($\\left<n|m\\right> = \\delta_{n,m}$) and also let us acknowledge the presence of an onsite energy $\\epsilon$ on each atomic site of this one-dimensional chain of atoms and a hopping matrix element $-t$ representing a tendency of neighboring orbitals to overlap.\n",
    "\n",
    "It can all be summarized to \n",
    "\n",
    "\\begin{equation}\n",
    "  \\left<n\\left|H\\right|m\\right> =\n",
    "  \\begin{cases}\n",
    "    \\epsilon, & \\text{if}\\ n=m \\\\\n",
    "    -t, & \\text{else if}\\ n=m \\pm 1 \\\\\n",
    "    0, & \\text{otherwise}\n",
    "  \\end{cases}\n",
    "\\end{equation}\n",
    "\n",
    "We are going to find the dispersion relation of this system which is equivalent of finding it's eigenenergies. This will reproduce a Figure 11.2 from <cite data-cite=\"6842018/Y842Q5I5\"></cite> page 102.\n",
    "\n",
    "### Theoretical solution\n",
    "\n",
    "Generalize a trial wavefunction $\\left| \\psi \\right>$ to an arbitrary number of levels $N$.\n",
    "\n",
    "\\begin{align}\n",
    "\\left| \\psi \\right> = c_1 \\left|1\\right> + c_2 \\left|2\\right> &\\rightarrow \\left| \\psi \\right> = \\sum_j^N c_j \\left|j\\right>\n",
    "\\end{align}\n",
    "\n",
    "And we have\n",
    "\n",
    "\\begin{align}\n",
    "\\left<i\\left|H\\right|j\\right> &= \\epsilon \\delta_{i,j} - t \\delta_{i,j\\pm1}\n",
    "\\end{align}\n",
    "\n",
    "In $N=2$ case periodic boundary conditions were automatically satisfied, here we need to define them (like in LCAC)\n",
    "\n",
    "\\begin{align}\n",
    "\\left<1\\left|H\\right|N\\right> &= \\left<N\\left|H\\right|1\\right>\\\\\n",
    "&= -t\n",
    "\\end{align}\n",
    "\n",
    "As in LCAC, let us approximate electrone to be \"nearly free\", thus as an intelligent guess for 1D Schrödinger equation let us fit it in a form of plane wave solution\n",
    "\n",
    "$c_i = N^{-\\frac{1}{2}}e^{-ikx}$ where $x$ is quantized into multiples of $a$, and since we impose periodic boundary conditions we need\n",
    "\n",
    "\\begin{align}\n",
    "\\left<1|\\psi\\right> &= \\left<N|\\psi\\right>\n",
    "\\end{align}\n",
    "\n",
    "So expanding it gives us\n",
    "\n",
    "\\begin{align}\n",
    "N^{-\\frac{1}{2}}e^{-ikx} &= N^{-\\frac{1}{2}}e^{-ikx}\n",
    "\\end{align}\n",
    "\n",
    "From both sides $N^{-\\frac{1}{2}}$ simplifies, now pluggin in first and last level to $x$\n",
    "\n",
    "\\begin{align}\n",
    "e^{-ikNa} &= e^{-ik0}\n",
    "\\end{align}\n",
    "\n",
    "We get $1$ constant on the right hand side\n",
    "\n",
    "\\begin{align}\n",
    "e^{-ikNa} &= 1\n",
    "\\end{align}\n",
    "\n",
    "We can solve it for $k$ and we get\n",
    "\n",
    "\\begin{align}\n",
    "k &= \\frac{2\\pi}{L}\n",
    "\\end{align}\n",
    "\n",
    "We can now state $\\left| \\psi_n \\right>$\n",
    "\n",
    "\\begin{align}\n",
    "\\left| \\psi_n \\right> &= N^{-\\frac{1}{2}} \\sum_l^N e^{-iklx} \\left|l\\right>\n",
    "\\end{align}\n",
    "\n",
    "Now we need to find the eigenenergies by solving the time-independent Schrödinger equation $H \\left|\\psi\\right> = E\\left|\\psi\\right>$ for $E$. Predictible form of $H$ allows us to state it as follows.\n",
    "\n",
    "\\begin{align}\n",
    "H \\left| \\psi \\right> & = \\sum_{l, l^\\prime} H_{l, l^\\prime} \\left|\\psi_{l^\\prime}\\right> \\\\\n",
    "& = \\sum_l N^{-\\frac{1}{2}}(\\epsilon e^{-ikla} - t e^{-ik(l-1)a} - t e^{-ik(l+1)a})\\\\\n",
    "& = \\sum_l N^{-\\frac{1}{2}}(\\epsilon - t e^{ika} - t e^{-ika}) e^{-ikla} \\\\\n",
    "& = \\sum_l N^{-\\frac{1}{2}}(\\epsilon - t e^{ika} - t e^{-ika}) \\left| \\psi_l \\right> \\\\\n",
    "& = \\sum_l N^{-\\frac{1}{2}}(\\epsilon - 2t \\cos(ka)) \\left| \\psi_l \\right>\n",
    "\\end{align}\n",
    "\n",
    "Where $N^{-\\frac{1}{2}}$ represents the normalization and eigenenergies are $E(k) = \\epsilon - 2t \\cos(ka)$, and it allows us to visualize the dispersion curve for electrons. Let us start by defining input parameters."
   ]
  },
  {
   "cell_type": "code",
   "execution_count": 4,
   "metadata": {},
   "outputs": [],
   "source": [
    "# spacing between orbitals\n",
    "a = 2\n",
    "\n",
    "# number of orbitals to consider\n",
    "N = 23\n",
    "\n",
    "# distance to the last orbital\n",
    "L = N*a\n",
    "\n",
    "# onsite energy\n",
    "eps = 0.25\n",
    "\n",
    "# hopping matrix element\n",
    "t = 0.5"
   ]
  },
  {
   "cell_type": "markdown",
   "metadata": {},
   "source": [
    "Now we calculate numerically the dispersion curve according to derived earlier eigenenergy expression."
   ]
  },
  {
   "cell_type": "code",
   "execution_count": 5,
   "metadata": {},
   "outputs": [],
   "source": [
    "k = np.linspace(-L, L, 2*L)\n",
    "exact = eps - 2.*t*np.cos(np.pi*k/L)"
   ]
  },
  {
   "cell_type": "markdown",
   "metadata": {},
   "source": [
    "Let us visualize the dispersion curve using `matplotlib`."
   ]
  },
  {
   "cell_type": "code",
   "execution_count": 6,
   "metadata": {},
   "outputs": [
    {
     "data": {
      "image/png": "[encoded data removed]",
      "text/plain": [
       "<matplotlib.figure.Figure at 0x117259a50>"
      ]
     },
     "metadata": {
      "needs_background": "light"
     },
     "output_type": "display_data"
    }
   ],
   "source": [
    "fig, axs = plt.subplots()\n",
    "axs.set_xlim(-L, L)\n",
    "axs.set_title('Tight Binding Model, N='+str(N)+', a='+str(a))\n",
    "axs.set_ylabel('E')\n",
    "axs.set_xlabel('$ka$')\n",
    "axs.axvline(x=0., color='k')\n",
    "axs.plot(k, exact, label='$E(k) = \\epsilon_0 - 2 t cos(2 \\pi \\\\frac{k}{N})$')\n",
    "axs.set_yticks([eps-2.*t, eps-t, eps, eps+t, eps+2.*t])\n",
    "axs.set_yticklabels(['$\\epsilon_0-2t$', '$\\epsilon_0-t$', '$\\epsilon_0$', '$\\epsilon_0+t$', '$\\epsilon_0+2t$'])\n",
    "axs.grid(True)"
   ]
  },
  {
   "cell_type": "markdown",
   "metadata": {},
   "source": [
    "And as we can see, plotted figure perfectly reproduces Figure 11.2 from <cite data-cite=\"6842018/Y842Q5I5\"></cite> page 102.\n",
    "\n",
    "### Numerical solution\n",
    "\n",
    "Once we have the theoretical solution plotted, we can solve this system numerically using QuTip and compare them. This consists of defining the Hamiltonian and numerically diagonalizing it. The advantage of using QuTip for it is that it provides us with convenient way of using operators and tensor products which makes it easy to define the Hamiltonian operator."
   ]
  },
  {
   "cell_type": "code",
   "execution_count": 7,
   "metadata": {},
   "outputs": [],
   "source": [
    "def _ket(n, N) : return basis(N, n)\n",
    "def _bra(n, N) : return basis(N, n).dag()\n",
    "\n",
    "# construct the Hamiltonian\n",
    "H  = sum([eps*_ket(n, L)*_bra(n, L) for n in range(0, L)])\n",
    "H -= sum([t*_ket(n, L)*_bra(n + 1, L) for n in range(0, L - 1)])\n",
    "H -= sum([t*_ket(n, L)*_bra(n - 1, L) for n in range(1, L)])\n",
    "\n",
    "# solve it numerically\n",
    "evals, ekets = H.eigenstates()\n",
    "\n",
    "# mirror it by the y-axis to make it appear on both sides of the curve\n",
    "numerical = np.concatenate((np.flip(evals, 0), evals), axis=0)"
   ]
  },
  {
   "cell_type": "markdown",
   "metadata": {},
   "source": [
    "let us plot both theoretical and numerical solutions. For theoretical we are going to use same data as in previous plot, while for numerical we will use numerically calculated eigenenergies and we will plot them as red dots."
   ]
  },
  {
   "cell_type": "code",
   "execution_count": 8,
   "metadata": {},
   "outputs": [
    {
     "data": {
      "image/png": "[encoded data removed]",
      "text/plain": [
       "<matplotlib.figure.Figure at 0x117247710>"
      ]
     },
     "metadata": {
      "needs_background": "light"
     },
     "output_type": "display_data"
    }
   ],
   "source": [
    "fig, axs = plt.subplots()\n",
    "axs.set_xlim(-L, L)\n",
    "axs.set_title('Tight Binding Model, N='+str(N)+', a='+str(a))\n",
    "axs.set_ylabel('E')\n",
    "axs.set_xlabel('$ka$')\n",
    "axs.axvline(x=0., color='k')\n",
    "axs.plot(k, numerical, 'ro', label='Eigenvalues of H')\n",
    "axs.plot(k, exact, label='$E(k) = \\epsilon_0 - 2 t cos(2 \\pi \\\\frac{k}{N})$')\n",
    "axs.set_yticks([eps-2.*t, eps-t, eps, eps+t, eps+2.*t])\n",
    "axs.set_yticklabels(['$\\epsilon_0-2t$', '$\\epsilon_0-t$', '$\\epsilon_0$', '$\\epsilon_0+t$', '$\\epsilon_0+2t$'])\n",
    "axs.grid(True)"
   ]
  },
  {
   "cell_type": "markdown",
   "metadata": {},
   "source": [
    "The numerical solution matches theoretical solution closely.\n",
    "\n",
    "## References\n",
    "\n",
    "<div class=\"cite2c-biblio\"></div>"
   ]
  },
  {
   "cell_type": "code",
   "execution_count": null,
   "metadata": {},
   "outputs": [],
   "source": []
  }
 ],
 "metadata": {
  "celltoolbar": "Edit Metadata",
  "cite2c": {
   "citations": {
    "6842018/Y842Q5I5": {
     "URL": "https://cds.cern.ch/record/1581455",
     "author": [
      {
       "family": "Simon",
       "given": "Steven H"
      }
     ],
     "event-place": "Oxford, UK",
     "id": "6842018/Y842Q5I5",
     "issued": {
      "year": 2013
     },
     "publisher": "Oxford Univ. Press",
     "publisher-place": "Oxford, UK",
     "title": "The Oxford solid state basics",
     "type": "book"
    }
   }
  },
  "ipub": {
   "institution": [
    "Division of Arts and Sciences, NYU Shanghai, 1555 Century Ave, Shanghai, 200122, China",
    "Department of Physics, New York University, New York, NY, 10003, USA"
   ],
   "subtitle": "Comparing theoretical and numerical approaches",
   "title": "1D Tight-Binding Model",
   "titlepage": {
    "author": "Marek Narozniak",
    "email": "marek.narozniak@nyu.edu"
   }
  },
  "kernelspec": {
   "display_name": "Python 2",
   "language": "python",
   "name": "python2"
  },
  "language_info": {
   "codemirror_mode": {
    "name": "ipython",
    "version": 2
   },
   "file_extension": ".py",
   "mimetype": "text/x-python",
   "name": "python",
   "nbconvert_exporter": "python",
   "pygments_lexer": "ipython2",
   "version": "2.7.13"
  }
 },
 "nbformat": 4,
 "nbformat_minor": 2
}
